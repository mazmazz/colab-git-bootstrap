{
  "nbformat": 4,
  "nbformat_minor": 0,
  "metadata": {
    "colab": {
      "name": "bootstrap.ipynb",
      "provenance": [],
      "collapsed_sections": [],
      "machine_shape": "hm",
      "include_colab_link": true
    },
    "kernelspec": {
      "name": "python3",
      "display_name": "Python 3"
    },
    "accelerator": "GPU"
  },
  "cells": [
    {
      "cell_type": "markdown",
      "metadata": {
        "id": "view-in-github",
        "colab_type": "text"
      },
      "source": [
        "<a href=\"https://colab.research.google.com/github/mazmazz/colab-git-bootstrap/blob/master/bootstrap.ipynb\" target=\"_parent\"><img src=\"https://colab.research.google.com/assets/colab-badge.svg\" alt=\"Open In Colab\"/></a>"
      ]
    },
    {
      "cell_type": "markdown",
      "metadata": {
        "id": "VYnqPVwyhOH-",
        "colab_type": "text"
      },
      "source": [
        "# Project Title\n",
        "\n",
        "Description"
      ]
    },
    {
      "cell_type": "markdown",
      "metadata": {
        "id": "Az0x0Tsk1nMM",
        "colab_type": "text"
      },
      "source": [
        "# Project Setup\n",
        "\n",
        "**Modify this section as necessary for this project.**\n",
        "\n",
        "Don't forget to enable GPU under `Runtime > Change runtime type`!"
      ]
    },
    {
      "cell_type": "code",
      "metadata": {
        "id": "eVHv6EfGKj-s",
        "colab_type": "code",
        "cellView": "form",
        "colab": {}
      },
      "source": [
        "#@title Project Settings\n",
        "\n",
        "import os\n",
        "\n",
        "#@markdown Repo path to clone from. `repo_name` is derived from this path.\n",
        "repo_url = 'https://github.com/author/project' #@param {type:\"string\"}\n",
        "repo_name = repo_url.split('/')[-1]\n",
        "\n",
        "#@markdown Repo branch or tag to clone. Leave blank to clone `master`.\n",
        "repo_branch = '' #@param {type:\"string\"}\n",
        "\n",
        "#@markdown Attempt to request Google Drive access. Will mount to `/content/drive/My Drive`. \n",
        "#@markdown\n",
        "#@markdown To avoid the credentials prompt during runtime, you may auto-mount by clicking the Files button on the left menu, then click `Mount Drive`.\n",
        "request_drive = False #@param {type:\"boolean\"} \n",
        "\n",
        "#@markdown Root workspace. The repository will be cloned here in a subdirectory: `repo_dir = {root_dir}/{repo_name}`\n",
        "root_dir = '/content/project' #@param {type:\"string\"}\n",
        "repo_dir = os.path.join(root_dir, repo_name)\n",
        "\n",
        "#@markdown Temp directory. If your root workspace is in Google Drive, then this path should be a local folder, such as `/content`.\n",
        "temp_dir = '/content/project/work' #@param {type:\"string\"}\n",
        "\n",
        "#@markdown Models directory.\n",
        "model_dir = '/content/project/work/model' #@param {type:\"string\"}\n",
        "\n",
        "#@markdown Output directory.\n",
        "output_dir = '/content/project/work/output' #@param {type:\"string\"}\n",
        "\n",
        "#@markdown Install `dependencies.txt` from project.\n",
        "install_deps = True #@param {type:\"boolean\"}\n",
        "\n",
        "#@markdown Tensorflow version (1 or 2)\n",
        "tf_version = 1 #@param {type:\"integer\"}\n",
        "\n",
        "#@markdown Attempt to invoke high memory (25.5 GB) in Colab.\n",
        "high_memory = False #@param {type:\"boolean\"}\n"
      ],
      "execution_count": 0,
      "outputs": []
    },
    {
      "cell_type": "code",
      "metadata": {
        "id": "LtamZP_bXF-2",
        "colab_type": "code",
        "cellView": "form",
        "colab": {}
      },
      "source": [
        "#@title System Setup\n",
        "#@markdown Attempt to invoke high memory if enabled in the settings. Toggle Tensorflow version.\n",
        "\n",
        "!pip install gputil\n",
        "\n",
        "# Import packages\n",
        "import os,sys,humanize,psutil,GPUtil\n",
        "\n",
        "def mem_report():\n",
        "  print(\"CPU RAM Free: \" + humanize.naturalsize( psutil.virtual_memory().available ))\n",
        "  \n",
        "  GPUs = GPUtil.getGPUs()\n",
        "  for i, gpu in enumerate(GPUs):\n",
        "    print('GPU {:d} ... Mem Free: {:.0f}MB / {:.0f}MB | Utilization {:3.0f}%'.format(i, gpu.memoryFree, gpu.memoryTotal, gpu.memoryUtil*100))\n",
        "    \n",
        "mem_report()\n",
        "\n",
        "if high_memory and psutil.virtual_memory().available < 13958643712:\n",
        "  print('Attempting to invoke high memory.')\n",
        "  print('This notebook will crash intentionally and Colab should display a prompt to offer you high-RAM.')\n",
        "  print('IF THIS PROMPT DOES NOT SHOW, DISABLE high_memory IN THE SETTINGS!')\n",
        "  d=[]\n",
        "  while(1):\n",
        "    d.append('1')\n",
        "\n",
        "# Toggle tensorflow version\n",
        "if tf_version == 2:\n",
        "  %tensorflow_version 2.x\n",
        "else:\n",
        "  %tensorflow_version 1.x"
      ],
      "execution_count": 0,
      "outputs": []
    },
    {
      "cell_type": "code",
      "metadata": {
        "id": "twRSq1a5wyTy",
        "colab_type": "code",
        "cellView": "form",
        "colab": {}
      },
      "source": [
        "#@title Project Setup\n",
        "#@markdown Setup directories. Clone project from git.\n",
        "\n",
        "from google.colab import drive\n",
        "\n",
        "if request_drive:\n",
        "  drive.mount('/content/drive')\n",
        "\n",
        "os.makedirs(root_dir, exist_ok=True)\n",
        "os.makedirs(temp_dir, exist_ok=True)\n",
        "os.makedirs(model_dir, exist_ok=True)\n",
        "os.makedirs(output_dir, exist_ok=True)\n",
        "\n",
        "if not os.path.isdir(repo_dir):\n",
        "  repo_cmd = f'--branch {repo_branch}' if repo_branch else ''\n",
        "  !git clone {repo_url} {repo_cmd} --depth 1 \"{repo_dir}\"\n"
      ],
      "execution_count": 0,
      "outputs": []
    },
    {
      "cell_type": "code",
      "metadata": {
        "id": "Isb9p-x5COIq",
        "colab_type": "code",
        "cellView": "both",
        "colab": {}
      },
      "source": [
        "#@title Dependency Setup\n",
        "#@markdown Install dependencies from `requirements.txt`. **Modify as necessary for this project.**\n",
        "\n",
        "if install_deps:\n",
        "  %cd \"{repo_dir}\"\n",
        "\n",
        "  # Strip tensorflow from requirements list because Colab provides this custom-compiled.\n",
        "  !sed '/tensorflow/d' -i requirements.txt\n",
        "\n",
        "  !pip install -r requirements.txt"
      ],
      "execution_count": 0,
      "outputs": []
    },
    {
      "cell_type": "code",
      "metadata": {
        "id": "FU7Ftqh5CO5p",
        "colab_type": "code",
        "cellView": "both",
        "colab": {}
      },
      "source": [
        "#@title Download Model\n",
        "#@markdown Download models, checkpoints, etc. **Modify as necessary for this project.**\n",
        "\n",
        "\"\"\"\n",
        "# Example\n",
        "if not os.path.exists(model_files):\n",
        "  %cd \"{temp_dir}\"\n",
        "  if not os.path.exists('model.zip'):\n",
        "    # URL:\n",
        "    !wget -O ./model.zip https://website.com/model.zip\n",
        "    # Dropbox:\n",
        "    !wget -O ./model.zip https://www.dropbox.com/s/file_id/model.zip?dl=1\n",
        "    # Google Drive:\n",
        "    !gdown https://drive.google.com/uc?id=file_id\n",
        "  !unzip ./model.zip -d \"{model_dir}\"\n",
        "\"\"\""
      ],
      "execution_count": 0,
      "outputs": []
    },
    {
      "cell_type": "markdown",
      "metadata": {
        "id": "DEhtbF-z2POf",
        "colab_type": "text"
      },
      "source": [
        "# Upload Files for Processing"
      ]
    },
    {
      "cell_type": "code",
      "metadata": {
        "id": "4KiBncsTdBY1",
        "colab_type": "code",
        "cellView": "both",
        "colab": {}
      },
      "source": [
        "#@markdown Click `Runtime > Run All` to upload files. If you see an error in this section, then run this cell again.\n",
        "\n",
        "from google.colab import files\n",
        "import shutil\n",
        "\n",
        "%cd \"{temp_dir}\"\n",
        "\n",
        "inputs = files.upload()\n",
        "\n",
        "\"\"\"\n",
        "# Example -- To work around duplicate file naming, copy uploaded files \n",
        "# to another directory by using the `inputs` bytestrings. \n",
        "input_dir = os.path.join(temp_dir, 'input')\n",
        "if os.path.exists(input_dir):\n",
        "  shutil.rmtree(input_dir)\n",
        "os.makedirs(input_dir)\n",
        "\n",
        "for i, fn in enumerate(inputs.keys()):\n",
        "  with open(os.path.join(input_dir, fn), 'wb') as f:\n",
        "    f.write(bytearray(inputs[fn]))\n",
        "\"\"\""
      ],
      "execution_count": 0,
      "outputs": []
    },
    {
      "cell_type": "markdown",
      "metadata": {
        "id": "9G_KIi59eONI",
        "colab_type": "text"
      },
      "source": [
        "# Processing"
      ]
    },
    {
      "cell_type": "code",
      "metadata": {
        "id": "BNnLM_onG819",
        "colab_type": "code",
        "colab": {}
      },
      "source": [
        "#@title Processing Settings\n",
        "\n"
      ],
      "execution_count": 0,
      "outputs": []
    },
    {
      "cell_type": "code",
      "metadata": {
        "id": "N3ommCSYeS3H",
        "colab_type": "code",
        "cellView": "both",
        "colab": {}
      },
      "source": [
        "#@title Do Work\n",
        "\n",
        "%cd \"{repo_dir}\"\n",
        "\n",
        "\"\"\"\n",
        "# Example: Display images and HTML\n",
        "from IPython.core.display import display, HTML\n",
        "from IPython.display import Image\n",
        "\n",
        "display(HTML('''\n",
        "<h1>Running Jobs</h1>\n",
        "<p>Job 1</p>\n",
        "'''))\n",
        "\n",
        "display(Image(os.path.join(output_dir, 'image.png'), width=512))\n",
        "\"\"\""
      ],
      "execution_count": 0,
      "outputs": []
    }
  ]
}